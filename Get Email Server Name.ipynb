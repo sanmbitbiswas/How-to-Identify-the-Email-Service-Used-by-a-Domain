{
 "cells": [
  {
   "cell_type": "markdown",
   "id": "793af27e",
   "metadata": {},
   "source": [
    "## Iteration 1 from chatGPT"
   ]
  },
  {
   "cell_type": "code",
   "execution_count": 6,
   "id": "35cf1c17",
   "metadata": {},
   "outputs": [
    {
     "name": "stdout",
     "output_type": "stream",
     "text": [
      "['10', '5', '5', '10', '1']\n",
      "The email service provider for bigalc.com is: Unknown\n"
     ]
    }
   ],
   "source": [
    "import subprocess\n",
    "import re\n",
    "\n",
    "def get_mx_records(domain):\n",
    "    \"\"\"Run dig command and get MX records for the domain.\"\"\"\n",
    "    try:\n",
    "        result = subprocess.run(['dig', 'MX', domain], capture_output=True, text=True, check=True)\n",
    "        return result.stdout\n",
    "    except subprocess.CalledProcessError as e:\n",
    "        print(f\"An error occurred: {e}\")\n",
    "        return None\n",
    "\n",
    "def parse_mx_records(dig_output):\n",
    "    \"\"\"Parse the MX records from dig command output.\"\"\"\n",
    "    mx_records = []\n",
    "    lines = dig_output.splitlines()\n",
    "    for line in lines:\n",
    "        if \"MX\" in line and not line.startswith(\";\"):\n",
    "            parts = line.split()\n",
    "            if len(parts) >= 5:\n",
    "                mx_records.append(parts[4])\n",
    "    print(mx_records)\n",
    "    return mx_records\n",
    "\n",
    "def classify_email_service(mx_records):\n",
    "    \"\"\"Classify the email service provider based on MX records.\"\"\"\n",
    "    providers = {\n",
    "        'Google': ['aspmx.l.google.com', 'alt1.aspmx.l.google.com', 'alt2.aspmx.l.google.com', 'alt3.aspmx.l.google.com', 'alt4.aspmx.l.google.com'],\n",
    "        'Outlook': ['outlook-com', 'mail.protection.outlook.com'],\n",
    "        'Yahoo': ['yahoodns.net'],\n",
    "        'Zoho': ['zoho.com'],\n",
    "        'Yandex': ['yandex.net'],\n",
    "        # Add more known providers and their MX patterns as needed\n",
    "    }\n",
    "    \n",
    "    for mx_record in mx_records:\n",
    "        for provider, patterns in providers.items():\n",
    "            if any(pattern in mx_record for pattern in patterns):\n",
    "                return provider\n",
    "    \n",
    "    return \"Unknown\"\n",
    "\n",
    "def identify_email_provider(domain):\n",
    "    \"\"\"Identify the email provider for the given domain.\"\"\"\n",
    "    dig_output = get_mx_records(domain)\n",
    "    if not dig_output:\n",
    "        return \"Failed to retrieve MX records.\"\n",
    "    \n",
    "    mx_records = parse_mx_records(dig_output)\n",
    "    if not mx_records:\n",
    "        return \"No MX records found.\"\n",
    "\n",
    "    provider = classify_email_service(mx_records)\n",
    "    return provider\n",
    "\n",
    "# Example usage\n",
    "domain_to_check = \"bigalc.com\"\n",
    "provider = identify_email_provider(domain_to_check)\n",
    "print(f\"The email service provider for {domain_to_check} is: {provider}\")\n"
   ]
  },
  {
   "cell_type": "markdown",
   "id": "87ac7fa0",
   "metadata": {},
   "source": [
    "# Iteration 2 from chatGPT"
   ]
  },
  {
   "cell_type": "code",
   "execution_count": 15,
   "id": "59d67ebf",
   "metadata": {},
   "outputs": [
    {
     "name": "stdout",
     "output_type": "stream",
     "text": [
      "The email service provider for fssmarketing.in is: Hostinger\n"
     ]
    }
   ],
   "source": [
    "import subprocess\n",
    "\n",
    "def get_dig_output(domain):\n",
    "    \"\"\"Run dig command and get the raw output.\"\"\"\n",
    "    try:\n",
    "        result = subprocess.run(['dig', 'MX', domain], capture_output=True, text=True, check=True)\n",
    "        return result.stdout\n",
    "    except subprocess.CalledProcessError as e:\n",
    "        print(f\"An error occurred: {e}\")\n",
    "        return None\n",
    "\n",
    "def classify_email_service(dig_output):\n",
    "    \"\"\"Classify the email service provider based on patterns in the dig output.\"\"\"\n",
    "    providers = {\n",
    "        'Google': ['aspmx.l.google.com', 'alt1.aspmx.l.google.com', 'alt2.aspmx.l.google.com', 'alt3.aspmx.l.google.com', 'alt4.aspmx.l.google.com'],\n",
    "        'Outlook': ['outlook-com', 'mail.protection.outlook.com'],\n",
    "        'Yahoo': ['yahoodns.net'],\n",
    "        'Zoho': ['zoho.com'],\n",
    "        'Yandex': ['yandex.net'],\n",
    "        'Hostinger':['mx2.hostinger.com','mx1.hostinger.com','hostinger.com']\n",
    "        # Add more known providers and their MX patterns as needed\n",
    "    }\n",
    "\n",
    "    for provider, patterns in providers.items():\n",
    "        for pattern in patterns:\n",
    "            if pattern in dig_output:\n",
    "                return provider\n",
    "\n",
    "    return \"Unknown\"\n",
    "\n",
    "def identify_email_provider(domain):\n",
    "    \"\"\"Identify the email provider for the given domain.\"\"\"\n",
    "    dig_output = get_dig_output(domain)\n",
    "    if not dig_output:\n",
    "        return \"Failed to retrieve MX records.\"\n",
    "    \n",
    "    provider = classify_email_service(dig_output)\n",
    "    return provider\n",
    "\n",
    "# Example usage\n",
    "domain_to_check = \"fssmarketing.in\"\n",
    "provider = identify_email_provider(domain_to_check)\n",
    "print(f\"The email service provider for {domain_to_check} is: {provider}\")\n"
   ]
  },
  {
   "cell_type": "markdown",
   "id": "a80887e1",
   "metadata": {},
   "source": [
    "# Iteration 3 from chatGPT - WORKS"
   ]
  },
  {
   "cell_type": "code",
   "execution_count": 19,
   "id": "2252d395",
   "metadata": {},
   "outputs": [
    {
     "name": "stdout",
     "output_type": "stream",
     "text": [
      "The program has finished running.\n"
     ]
    }
   ],
   "source": [
    "import subprocess\n",
    "import pandas as pd\n",
    "\n",
    "def get_dig_output(domain):\n",
    "    \"\"\"Run dig command and get the raw output.\"\"\"\n",
    "    try:\n",
    "        result = subprocess.run(['dig', 'MX', domain], capture_output=True, text=True, check=True)\n",
    "        return result.stdout\n",
    "    except subprocess.CalledProcessError as e:\n",
    "        print(f\"An error occurred: {e}\")\n",
    "        return None\n",
    "\n",
    "def classify_email_service(dig_output):\n",
    "    \"\"\"Classify the email service provider based on patterns in the dig output.\"\"\"\n",
    "    providers = {\n",
    "        'Google': ['aspmx.l.google.com', 'alt1.aspmx.l.google.com', 'alt2.aspmx.l.google.com', 'alt3.aspmx.l.google.com', 'alt4.aspmx.l.google.com'],\n",
    "        'Outlook': ['outlook-com', 'mail.protection.outlook.com'],\n",
    "        'Yahoo': ['yahoodns.net'],\n",
    "        'Zoho': ['zoho.com'],\n",
    "        'Yandex': ['yandex.net'],\n",
    "        # Add more known providers and their MX patterns as needed\n",
    "    }\n",
    "\n",
    "    for provider, patterns in providers.items():\n",
    "        for pattern in patterns:\n",
    "            if pattern in dig_output:\n",
    "                return provider\n",
    "\n",
    "    return \"Unknown\"\n",
    "\n",
    "def identify_email_provider(domain):\n",
    "    \"\"\"Identify the email provider for the given domain.\"\"\"\n",
    "    dig_output = get_dig_output(domain)\n",
    "    if not dig_output:\n",
    "        return \"Failed to retrieve MX records.\"\n",
    "    \n",
    "    provider = classify_email_service(dig_output)\n",
    "    return provider\n",
    "\n",
    "def process_csv(file_path):\n",
    "    \"\"\"Process the CSV file to identify email service providers for each domain.\"\"\"\n",
    "    df = pd.read_csv(file_path)\n",
    "    df['Email Service'] = df['Domain'].apply(identify_email_provider)\n",
    "    df.to_csv(file_path, index=False)\n",
    "    print(\"The program has finished running.\")\n",
    "\n",
    "# Example usage\n",
    "file_path = \"/home/sambit/Desktop/Coding Folder/domains.csv\"  # Replace with your input CSV file path\n",
    "process_csv(file_path)\n"
   ]
  },
  {
   "cell_type": "code",
   "execution_count": null,
   "id": "9c2bac35",
   "metadata": {},
   "outputs": [],
   "source": []
  },
  {
   "cell_type": "code",
   "execution_count": null,
   "id": "1ebcae62",
   "metadata": {},
   "outputs": [],
   "source": []
  },
  {
   "cell_type": "code",
   "execution_count": null,
   "id": "8403b9c3",
   "metadata": {},
   "outputs": [],
   "source": []
  }
 ],
 "metadata": {
  "kernelspec": {
   "display_name": "Python 3 (ipykernel)",
   "language": "python",
   "name": "python3"
  },
  "language_info": {
   "codemirror_mode": {
    "name": "ipython",
    "version": 3
   },
   "file_extension": ".py",
   "mimetype": "text/x-python",
   "name": "python",
   "nbconvert_exporter": "python",
   "pygments_lexer": "ipython3",
   "version": "3.10.12"
  }
 },
 "nbformat": 4,
 "nbformat_minor": 5
}
